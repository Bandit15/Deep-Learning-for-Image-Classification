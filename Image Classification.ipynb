{
 "cells": [
  {
   "cell_type": "code",
   "execution_count": 2,
   "id": "101b6158",
   "metadata": {},
   "outputs": [],
   "source": [
    "import os\n",
    "import random\n",
    "import shutil"
   ]
  },
  {
   "cell_type": "code",
   "execution_count": 2,
   "id": "6d7d24b6",
   "metadata": {},
   "outputs": [
    {
     "name": "stdout",
     "output_type": "stream",
     "text": [
      "EuroSAT_RGB dataset structure fixed! Now you have:\n",
      "- EuroSAT_RGB/train (with all 10 class folders)\n",
      "- EuroSAT_RGB/test (with all 10 class folders)\n"
     ]
    }
   ],
   "source": [
    "import os\n",
    "import shutil\n",
    "import random\n",
    "\n",
    "# Set your base dataset path\n",
    "base_dir = 'EuroSAT_RGB'\n",
    "train_dir = os.path.join(base_dir, 'train')\n",
    "test_dir = os.path.join(base_dir, 'test')\n",
    "split_ratio = 0.2  # 20% for testing\n",
    "\n",
    "# 1. Remove any existing train/test folders to start fresh\n",
    "for folder in [train_dir, test_dir]:\n",
    "    if os.path.exists(folder):\n",
    "        shutil.rmtree(folder)\n",
    "\n",
    "# 2. Get all class folders in base_dir (ignore train/test if present)\n",
    "all_classes = [d for d in os.listdir(base_dir)\n",
    "               if os.path.isdir(os.path.join(base_dir, d)) and d not in ['train', 'test']]\n",
    "\n",
    "# 3. Create clean train/test folders\n",
    "for folder in [train_dir, test_dir]:\n",
    "    os.makedirs(folder, exist_ok=True)\n",
    "    for class_name in all_classes:\n",
    "        os.makedirs(os.path.join(folder, class_name), exist_ok=True)\n",
    "\n",
    "# 4. Move and split the images\n",
    "for class_name in all_classes:\n",
    "    class_path = os.path.join(base_dir, class_name)\n",
    "    images = [f for f in os.listdir(class_path) if os.path.isfile(os.path.join(class_path, f))]\n",
    "    random.shuffle(images)\n",
    "    split_idx = int(len(images) * (1 - split_ratio))\n",
    "    train_imgs = images[:split_idx]\n",
    "    test_imgs = images[split_idx:]\n",
    "\n",
    "    # Move images to train\n",
    "    for img in train_imgs:\n",
    "        shutil.move(os.path.join(class_path, img), os.path.join(train_dir, class_name, img))\n",
    "    # Move images to test\n",
    "    for img in test_imgs:\n",
    "        shutil.move(os.path.join(class_path, img), os.path.join(test_dir, class_name, img))\n",
    "\n",
    "    # Remove empty original class folder\n",
    "    os.rmdir(class_path)\n",
    "\n",
    "print(\"EuroSAT_RGB dataset structure fixed! Now you have:\")\n",
    "print(f\"- {train_dir} (with all 10 class folders)\")\n",
    "print(f\"- {test_dir} (with all 10 class folders)\")"
   ]
  },
  {
   "cell_type": "code",
   "execution_count": 3,
   "id": "6fe36e04",
   "metadata": {},
   "outputs": [
    {
     "name": "stderr",
     "output_type": "stream",
     "text": [
      "2025-06-02 17:34:15.998137: I tensorflow/core/platform/cpu_feature_guard.cc:193] This TensorFlow binary is optimized with oneAPI Deep Neural Network Library (oneDNN) to use the following CPU instructions in performance-critical operations:  SSE4.1 SSE4.2 AVX AVX2 FMA\n",
      "To enable them in other operations, rebuild TensorFlow with the appropriate compiler flags.\n"
     ]
    }
   ],
   "source": [
    "import tensorflow as tf\n",
    "from tensorflow.keras import layers\n",
    "from tensorflow.keras.models import Sequential"
   ]
  },
  {
   "cell_type": "code",
   "execution_count": 4,
   "id": "c552f5f2",
   "metadata": {},
   "outputs": [
    {
     "name": "stdout",
     "output_type": "stream",
     "text": [
      "Found 21600 files belonging to 10 classes.\n",
      "Using 17280 files for training.\n"
     ]
    },
    {
     "name": "stderr",
     "output_type": "stream",
     "text": [
      "2025-06-02 17:34:37.419572: I tensorflow/core/platform/cpu_feature_guard.cc:193] This TensorFlow binary is optimized with oneAPI Deep Neural Network Library (oneDNN) to use the following CPU instructions in performance-critical operations:  SSE4.1 SSE4.2 AVX AVX2 FMA\n",
      "To enable them in other operations, rebuild TensorFlow with the appropriate compiler flags.\n"
     ]
    },
    {
     "name": "stdout",
     "output_type": "stream",
     "text": [
      "Found 21600 files belonging to 10 classes.\n",
      "Using 4320 files for validation.\n",
      "Found 5400 files belonging to 10 classes.\n",
      "Epoch 1/10\n",
      "540/540 [==============================] - 29s 50ms/step - loss: 1.5416 - accuracy: 0.4055 - val_loss: 1.1019 - val_accuracy: 0.5729\n",
      "Epoch 2/10\n",
      "540/540 [==============================] - 27s 50ms/step - loss: 1.0711 - accuracy: 0.6225 - val_loss: 0.8555 - val_accuracy: 0.6877\n",
      "Epoch 3/10\n",
      "540/540 [==============================] - 28s 53ms/step - loss: 0.9132 - accuracy: 0.6738 - val_loss: 0.8539 - val_accuracy: 0.6961\n",
      "Epoch 4/10\n",
      "540/540 [==============================] - 28s 52ms/step - loss: 0.7962 - accuracy: 0.7193 - val_loss: 0.6585 - val_accuracy: 0.7600\n",
      "Epoch 5/10\n",
      "540/540 [==============================] - 30s 56ms/step - loss: 0.7220 - accuracy: 0.7450 - val_loss: 0.7407 - val_accuracy: 0.7384\n",
      "Epoch 6/10\n",
      "540/540 [==============================] - 30s 55ms/step - loss: 0.6665 - accuracy: 0.7650 - val_loss: 0.5640 - val_accuracy: 0.8012\n",
      "Epoch 7/10\n",
      "540/540 [==============================] - 29s 54ms/step - loss: 0.6238 - accuracy: 0.7789 - val_loss: 0.5479 - val_accuracy: 0.8081\n",
      "Epoch 8/10\n",
      "540/540 [==============================] - 29s 54ms/step - loss: 0.5552 - accuracy: 0.8034 - val_loss: 0.4893 - val_accuracy: 0.8377\n",
      "Epoch 9/10\n",
      "540/540 [==============================] - 30s 56ms/step - loss: 0.5274 - accuracy: 0.8166 - val_loss: 0.4863 - val_accuracy: 0.8275\n",
      "Epoch 10/10\n",
      "540/540 [==============================] - 33s 61ms/step - loss: 0.4845 - accuracy: 0.8310 - val_loss: 0.4588 - val_accuracy: 0.8435\n",
      "169/169 [==============================] - 3s 20ms/step - loss: 0.4585 - accuracy: 0.8372\n",
      "Test Accuracy: 0.8372222185134888\n"
     ]
    }
   ],
   "source": [
    "import tensorflow as tf\n",
    "from tensorflow.keras import layers, Sequential\n",
    "\n",
    "# Set dataset paths\n",
    "dataset_path = 'EuroSAT_RGB'  # Your main dataset folder\n",
    "train_dir = f'{dataset_path}/train'\n",
    "test_dir = f'{dataset_path}/test'\n",
    "\n",
    "# Parameters\n",
    "batch_size = 32\n",
    "img_height = 64\n",
    "img_width = 64\n",
    "AUTOTUNE = tf.data.AUTOTUNE\n",
    "\n",
    "# Load datasets\n",
    "train_ds_raw = tf.keras.utils.image_dataset_from_directory(\n",
    "    train_dir,\n",
    "    validation_split=0.2,\n",
    "    subset=\"training\",\n",
    "    seed=123,\n",
    "    image_size=(img_height, img_width),\n",
    "    batch_size=batch_size)\n",
    "\n",
    "val_ds_raw = tf.keras.utils.image_dataset_from_directory(\n",
    "    train_dir,\n",
    "    validation_split=0.2,\n",
    "    subset=\"validation\",\n",
    "    seed=123,\n",
    "    image_size=(img_height, img_width),\n",
    "    batch_size=batch_size)\n",
    "\n",
    "test_ds_raw = tf.keras.utils.image_dataset_from_directory(\n",
    "    test_dir,\n",
    "    image_size=(img_height, img_width),\n",
    "    batch_size=batch_size)\n",
    "\n",
    "# Get class names and number of classes BEFORE mapping/caching\n",
    "class_names = train_ds_raw.class_names\n",
    "num_classes = len(class_names)\n",
    "\n",
    "# Normalize pixel values\n",
    "normalization_layer = layers.Rescaling(1./255)\n",
    "train_ds = train_ds_raw.map(lambda x, y: (normalization_layer(x), y))\n",
    "val_ds = val_ds_raw.map(lambda x, y: (normalization_layer(x), y))\n",
    "test_ds = test_ds_raw.map(lambda x, y: (normalization_layer(x), y))\n",
    "\n",
    "# Cache and prefetch\n",
    "train_ds = train_ds.cache().shuffle(1000).prefetch(buffer_size=AUTOTUNE)\n",
    "val_ds = val_ds.cache().prefetch(buffer_size=AUTOTUNE)\n",
    "test_ds = test_ds.cache().prefetch(buffer_size=AUTOTUNE)\n",
    "\n",
    "# Build the model\n",
    "model = Sequential([\n",
    "    layers.Conv2D(32, (3, 3), activation='relu', input_shape=(img_height, img_width, 3)),\n",
    "    layers.MaxPooling2D((2, 2)),\n",
    "    layers.Conv2D(64, (3, 3), activation='relu'),\n",
    "    layers.MaxPooling2D((2, 2)),\n",
    "    layers.Conv2D(128, (3, 3), activation='relu'),\n",
    "    layers.MaxPooling2D((2, 2)),\n",
    "    layers.Flatten(),\n",
    "    layers.Dense(128, activation='relu'),\n",
    "    layers.Dropout(0.5),\n",
    "    layers.Dense(num_classes, activation='softmax')\n",
    "])\n",
    "\n",
    "# Compile the model\n",
    "model.compile(optimizer='adam',\n",
    "              loss='sparse_categorical_crossentropy',\n",
    "              metrics=['accuracy'])\n",
    "\n",
    "# Train the model\n",
    "model.fit(\n",
    "    train_ds,\n",
    "    validation_data=val_ds,\n",
    "    epochs=10\n",
    ")\n",
    "\n",
    "# Evaluate the model\n",
    "test_loss, test_acc = model.evaluate(test_ds)\n",
    "print(f\"Test Accuracy: {test_acc}\")"
   ]
  },
  {
   "cell_type": "code",
   "execution_count": null,
   "id": "d7fe29ba",
   "metadata": {},
   "outputs": [],
   "source": [
    "# Save model\n",
    "model.save('eurosat_cnn_model.h5')"
   ]
  },
  {
   "cell_type": "code",
   "execution_count": 6,
   "id": "c2ff7424",
   "metadata": {},
   "outputs": [],
   "source": [
    "# Load model\n",
    "from tensorflow.keras.models import load_model\n",
    "\n",
    "model = load_model('eurosat_cnn_model.h5')"
   ]
  },
  {
   "cell_type": "code",
   "execution_count": null,
   "id": "892bc3a8",
   "metadata": {},
   "outputs": [
    {
     "name": "stdout",
     "output_type": "stream",
     "text": [
      "1/1 [==============================] - 0s 31ms/step\n",
      "Predicted class: Forest\n"
     ]
    }
   ],
   "source": [
    "# Single image prediction using existing class names\n",
    "import tensorflow as tf\n",
    "from tensorflow.keras.preprocessing import image\n",
    "import numpy as np\n",
    "\n",
    "\n",
    "img_path = 'EuroSAT_RGB/test/Forest/Forest_7.jpg'\n",
    "img_height, img_width = 64, 64  # Must match your training size\n",
    "\n",
    "img = image.load_img(img_path, target_size=(img_height, img_width))\n",
    "img_array = image.img_to_array(img)\n",
    "img_array = np.expand_dims(img_array, axis=0)  # Add batch dimension\n",
    "img_array = img_array / 255.0  # Rescale\n",
    "\n",
    "predictions = model.predict(img_array)\n",
    "class_idx = np.argmax(predictions, axis=1)[0]\n",
    "\n",
    "# Assuming you still have class_names from earlier:\n",
    "print(\"Predicted class:\", class_names[class_idx])"
   ]
  },
  {
   "cell_type": "code",
   "execution_count": 13,
   "id": "11dddf85",
   "metadata": {},
   "outputs": [
    {
     "name": "stdout",
     "output_type": "stream",
     "text": [
      "1/1 [==============================] - 0s 31ms/step\n",
      "Predicted class for EuroSAT_RGB/test/Forest/Forest_7.jpg: Forest\n"
     ]
    }
   ],
   "source": [
    "# Optional loading class names\n",
    "# Load model and class names\n",
    "class_names = ['AnnualCrop', 'Forest', 'HerbaceousVegetation', 'Highway', 'Industrial',\n",
    "               'Pasture', 'PermanentCrop', 'Residential', 'River', 'SeaLake']\n",
    "\n",
    "def classify_image(img_path):\n",
    "    img = image.load_img(img_path, target_size=(64, 64))\n",
    "    img_array = image.img_to_array(img)\n",
    "    img_array = np.expand_dims(img_array, axis=0) / 255.0\n",
    "    preds = model.predict(img_array)\n",
    "    label = class_names[np.argmax(preds)]\n",
    "    print(f\"Predicted class for {img_path}: {label}\")\n",
    "\n",
    "# Example usage\n",
    "classify_image('EuroSAT_RGB/test/Forest/Forest_7.jpg')"
   ]
  },
  {
   "cell_type": "code",
   "execution_count": 22,
   "id": "1273dbc1",
   "metadata": {},
   "outputs": [
    {
     "data": {
      "image/png": "[encoded data removed]",
      "text/plain": [
       "<Figure size 400x400 with 1 Axes>"
      ]
     },
     "metadata": {},
     "output_type": "display_data"
    },
    {
     "name": "stdout",
     "output_type": "stream",
     "text": [
      "Top predictions:\n",
      "Forest: 99.96%\n",
      "SeaLake: 0.03%\n",
      "HerbaceousVegetation: 0.01%\n"
     ]
    }
   ],
   "source": [
    "import matplotlib.pyplot as plt\n",
    "\n",
    "# --- Visualization code ---\n",
    "# Get the predicted class name\n",
    "predicted_class = class_names[class_idx]\n",
    "\n",
    "# Optionally, get the true class name from the folder structure\n",
    "true_class = os.path.basename(os.path.dirname(img_path))\n",
    "\n",
    "correct = (true_class == predicted_class)\n",
    "title_color = 'green' if correct else 'red'\n",
    "plt.figure(figsize=(4,4))\n",
    "plt.imshow(img)\n",
    "plt.axis('off')\n",
    "plt.title(f\"True: {true_class}\\nPredicted: {predicted_class}\", color=title_color)\n",
    "plt.show()\n",
    "\n",
    "# Optionally, print prediction probabilities for top 3 classes\n",
    "top_indices = np.argsort(predictions[0])[::-1][:3]\n",
    "print(\"Top predictions:\")\n",
    "for i in top_indices:\n",
    "    print(f\"{class_names[i]}: {predictions[0][i]*100:.2f}%\")\n",
    "\n",
    "\n"
   ]
  },
  {
   "cell_type": "code",
   "execution_count": 24,
   "id": "7565c26d",
   "metadata": {},
   "outputs": [],
   "source": [
    "from PIL import Image"
   ]
  },
  {
   "cell_type": "code",
   "execution_count": 23,
   "id": "054ec06f",
   "metadata": {},
   "outputs": [
    {
     "data": {
      "text/plain": [
       "Text(0.5, 1.0, 'True: Forest\\nPredicted: Forest (99.96%)')"
      ]
     },
     "execution_count": 23,
     "metadata": {},
     "output_type": "execute_result"
    },
    {
     "data": {
      "image/png": "[encoded data removed]",
      "text/plain": [
       "<Figure size 640x480 with 1 Axes>"
      ]
     },
     "metadata": {},
     "output_type": "display_data"
    }
   ],
   "source": [
    "confidence = predictions[0][class_idx] * 100\n",
    "plt.title(f\"True: {true_class}\\nPredicted: {predicted_class} ({confidence:.2f}%)\", color=title_color)"
   ]
  }
 ],
 "metadata": {
  "kernelspec": {
   "display_name": "new_en",
   "language": "python",
   "name": "python3"
  },
  "language_info": {
   "codemirror_mode": {
    "name": "ipython",
    "version": 3
   },
   "file_extension": ".py",
   "mimetype": "text/x-python",
   "name": "python",
   "nbconvert_exporter": "python",
   "pygments_lexer": "ipython3",
   "version": "3.9.16"
  }
 },
 "nbformat": 4,
 "nbformat_minor": 5
}
